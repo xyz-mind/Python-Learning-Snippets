{
 "cells": [
  {
   "cell_type": "markdown",
   "id": "f78b86a4-e06d-4554-a321-0dfd22589fcd",
   "metadata": {},
   "source": [
    "# sk-eeb3926a5a604ba5978a21465ff88ff7"
   ]
  },
  {
   "cell_type": "code",
   "execution_count": 2,
   "id": "6203ae61-3b47-4f58-84f8-4fd198c91efd",
   "metadata": {},
   "outputs": [
    {
     "name": "stdin",
     "output_type": "stream",
     "text": [
      "输入DeepSeek的API密钥： ········\n"
     ]
    }
   ],
   "source": [
    "import getpass\n",
    "import os\n",
    "\n",
    "if not os.environ.get(\"DEEPSEEK_API_KEY\"):\n",
    "  os.environ[\"DEEPSEEK_API_KEY\"] = getpass.getpass(\"输入DeepSeek的API密钥：\")"
   ]
  },
  {
   "cell_type": "code",
   "execution_count": 4,
   "id": "6aaae474-8f68-4fb2-9bf3-35a2ca8e7842",
   "metadata": {},
   "outputs": [],
   "source": [
    "from langchain_deepseek import ChatDeepSeek\n",
    "\n",
    "\n",
    "model = ChatDeepSeek(\n",
    "    model = \"deepseek-reasoner\"\n",
    ")"
   ]
  },
  {
   "cell_type": "code",
   "execution_count": 11,
   "id": "d8516c9a-42db-430f-93da-d3f20952e82f",
   "metadata": {},
   "outputs": [],
   "source": [
    "from langchain_core.prompts import ChatPromptTemplate\n",
    "from langchain_core.output_parsers import StrOutputParser\n",
    "\n",
    "\n",
    "parser = StrOutputParser()\n",
    "prompt = ChatPromptTemplate.from_template(\n",
    "    \"你是一个顶级翻译家，可以对下面的内容进行贴切的翻译：{text}\"\n",
    ")"
   ]
  },
  {
   "cell_type": "code",
   "execution_count": 12,
   "id": "42e2116d-d0c6-43f0-82d6-60fff8ab5549",
   "metadata": {},
   "outputs": [],
   "source": [
    "chain = prompt | model | parser"
   ]
  },
  {
   "cell_type": "code",
   "execution_count": 13,
   "id": "8e5f1bf9-6db8-4aed-920d-0a1bc0a66b81",
   "metadata": {
    "scrolled": true
   },
   "outputs": [
    {
     "name": "stdout",
     "output_type": "stream",
     "text": [
      "\"你好吗？\" \n",
      "\n",
      "这个翻译既保留了原句的问候功能，又符合中文口语表达习惯。根据语境不同，也可以译为：\n",
      "1. 日常问候：\"最近怎么样？\"\n",
      "2. 熟人关心：\"身体还好吗？\"\n",
      "3. 正式场合：\"您近来可好？\"\n",
      "4. 关切询问：\"你还好吗？\"\n",
      "\n",
      "需要根据具体场景、人物关系和语气强度选择最贴切的译法。"
     ]
    }
   ],
   "source": [
    "async for chunk in chain.astream({\"text\" : \"How are you?\"}):\n",
    "    print(chunk,end=\"\",flush=True)"
   ]
  },
  {
   "cell_type": "code",
   "execution_count": null,
   "id": "b4cbce57-4aa6-441a-918b-eefed12c630d",
   "metadata": {},
   "outputs": [],
   "source": []
  }
 ],
 "metadata": {
  "kernelspec": {
   "display_name": "Python 3 (ipykernel)",
   "language": "python",
   "name": "python3"
  },
  "language_info": {
   "codemirror_mode": {
    "name": "ipython",
    "version": 3
   },
   "file_extension": ".py",
   "mimetype": "text/x-python",
   "name": "python",
   "nbconvert_exporter": "python",
   "pygments_lexer": "ipython3",
   "version": "3.12.7"
  }
 },
 "nbformat": 4,
 "nbformat_minor": 5
}
